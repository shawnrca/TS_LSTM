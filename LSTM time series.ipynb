{
 "cells": [
  {
   "cell_type": "code",
   "execution_count": 1,
   "metadata": {
    "collapsed": true
   },
   "outputs": [],
   "source": [
    "import numpy as np\n",
    "import pandas as pd\n",
    "from pandas import datetime\n",
    "import math\n",
    "from tensorflow.contrib import rnn \n",
    "import matplotlib.pyplot as plt\n",
    "import seaborn as sns\n",
    "%matplotlib inline"
   ]
  },
  {
   "cell_type": "code",
   "execution_count": 31,
   "metadata": {},
   "outputs": [],
   "source": [
    "data = pd.read_csv(\"PRSA_data_2010.1.1-2014.12.31.csv\")\n",
    "data.index = data.apply(lambda x:datetime(x.year, x.month, x.day, x.hour), axis=1)\n",
    "data.drop(columns=[\"year\", \"month\", \"day\", \"hour\"], inplace=True)\n",
    "data.rename(columns={\"pm2.5\":\"pm25\"}, inplace=True)\n",
    "data = data[data[\"pm25\"].isna() == False]\n",
    "data = pd.concat([data, pd.get_dummies(data.cbwd)], axis=1)\n",
    "data.drop(columns=\"cbwd\", inplace=True)\n",
    "ts = pd.date_range(start=data.index.min(), end=data.index.max(), freq=\"H\")\n",
    "data = data.reindex(index=ts, method=\"pad\")\n",
    "data.pm25 = data.pm25.shift(-1)\n",
    "data = data[data[\"pm25\"].isna() == False]\n",
    "Y = data.pm25.values\n",
    "X = data.drop(columns=\"pm25\").values\n",
    "del data"
   ]
  },
  {
   "cell_type": "code",
   "execution_count": 41,
   "metadata": {},
   "outputs": [],
   "source": []
  },
  {
   "cell_type": "code",
   "execution_count": 55,
   "metadata": {},
   "outputs": [],
   "source": [
    "cut_off = X.shape[0] - int(X.shape[0]*0.1)\n",
    "X_train = X[0:cut_off,:]\n",
    "Y_train = Y[0:cut_off]\n",
    "X_test = X[0:cut_off,:]\n",
    "Y_train = Y[0:cut_off]"
   ]
  },
  {
   "cell_type": "code",
   "execution_count": null,
   "metadata": {
    "collapsed": true
   },
   "outputs": [],
   "source": []
  }
 ],
 "metadata": {
  "kernelspec": {
   "display_name": "Python 3",
   "language": "python",
   "name": "python3"
  },
  "language_info": {
   "codemirror_mode": {
    "name": "ipython",
    "version": 3
   },
   "file_extension": ".py",
   "mimetype": "text/x-python",
   "name": "python",
   "nbconvert_exporter": "python",
   "pygments_lexer": "ipython3",
   "version": "3.6.2"
  }
 },
 "nbformat": 4,
 "nbformat_minor": 2
}
