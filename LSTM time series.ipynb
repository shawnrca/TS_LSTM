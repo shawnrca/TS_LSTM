{
 "cells": [
  {
   "cell_type": "code",
   "execution_count": 1,
   "metadata": {},
   "outputs": [],
   "source": [
    "import numpy as np\n",
    "import pandas as pd\n",
    "from pandas import datetime\n",
    "import math\n",
    "from tensorflow.contrib.rnn import LSTMCell\n",
    "\n",
    "import tensorflow as tf\n",
    "import matplotlib.pyplot as plt\n",
    "import seaborn as sns\n",
    "import gc\n",
    "%matplotlib inline"
   ]
  },
  {
   "cell_type": "code",
   "execution_count": 2,
   "metadata": {},
   "outputs": [],
   "source": [
    "data = pd.read_csv(\"PRSA_data_2010.1.1-2014.12.31.csv\")\n",
    "data.index = data.apply(lambda x:datetime(x.year, x.month, x.day, x.hour), axis=1)\n",
    "\n",
    "data.drop(columns=[\"year\", \"month\", \"day\", \"hour\"], inplace=True)\n",
    "data.rename(columns={\"pm2.5\":\"pm25\"}, inplace=True)\n",
    "data = data[data[\"pm25\"].isna() == False]\n",
    "data = pd.concat([data, pd.get_dummies(data.cbwd)], axis=1)\n",
    "data.drop(columns=[\"cbwd\", \"No\"], inplace=True)\n",
    "ts = pd.date_range(start=data.index.min(), end=data.index.max(), freq=\"H\")\n",
    "data = data.reindex(index=ts, method=\"pad\")"
   ]
  },
  {
   "cell_type": "code",
   "execution_count": 3,
   "metadata": {},
   "outputs": [],
   "source": [
    "data.pm25 = data.pm25.shift(-1)\n",
    "data = data[data[\"pm25\"].isna() == False]"
   ]
  },
  {
   "cell_type": "code",
   "execution_count": 4,
   "metadata": {},
   "outputs": [
    {
     "data": {
      "text/plain": [
       "35"
      ]
     },
     "execution_count": 4,
     "metadata": {},
     "output_type": "execute_result"
    }
   ],
   "source": [
    "Y = data.pm25.values\n",
    "X = data.drop(columns=\"pm25\").values\n",
    "del data\n",
    "gc.collect()"
   ]
  },
  {
   "cell_type": "code",
   "execution_count": 5,
   "metadata": {},
   "outputs": [
    {
     "name": "stdout",
     "output_type": "stream",
     "text": [
      "X_train shape: (39408, 10) ----- Y_train shape: (39408,)-------\n"
     ]
    }
   ],
   "source": [
    "time_steps = 24\n",
    "\n",
    "#Here we take into consideration the time_steps\n",
    "size_of_test = X.shape[0]//10\n",
    "size_of_train = X.shape[0] - X.shape[0]//10\n",
    "size_of_test = size_of_test + size_of_train%time_steps -1\n",
    "size_of_train = X.shape[0] - size_of_test\n",
    "cut_off = size_of_train - 1\n",
    "\n",
    "X_train, Y_train = X[0:cut_off,:], Y[0:cut_off]\n",
    "X_test, Y_test = X[cut_off:,:], Y[cut_off::]\n",
    "X_min, X_max = np.min(X_train, axis=0), np.max(X_train, axis=0)\n",
    "X_train = (X_train-X_min)/(X_max-X_min)\n",
    "X_test = (X_test-X_min)/(X_max-X_min)\n",
    "\n",
    "assert(np.all(np.max(X_train, axis=0) == 1.0))\n",
    "assert(np.all(np.min(X_train, axis=0) == 0.0))\n",
    "\n",
    "print(\"X_train shape: {} ----- Y_train shape: {}-------\".format(X_train.shape, Y_train.shape))"
   ]
  },
  {
   "cell_type": "code",
   "execution_count": 6,
   "metadata": {},
   "outputs": [],
   "source": [
    "def create_set_with_timestep(X, Y, time_steps):\n",
    "    X_with_t = np.zeros((X.shape[0] - time_steps, time_steps, X.shape[1]))\n",
    "    Y_with_t = np.zeros((Y.shape[0] - time_steps))\n",
    "    \n",
    "    for i in range(X_with_t.shape[0]):\n",
    "        to_i = i + time_steps\n",
    "        if to_i >= X.shape[0]:\n",
    "            break;\n",
    "        X_with_t[i,...] = np.vstack(X[i:to_i,:])\n",
    "        Y_with_t[i,...] = Y[to_i-1]\n",
    "    return (X_with_t, Y_with_t)\n",
    "    \n",
    "    "
   ]
  },
  {
   "cell_type": "code",
   "execution_count": 7,
   "metadata": {},
   "outputs": [
    {
     "data": {
      "text/plain": [
       "304"
      ]
     },
     "execution_count": 7,
     "metadata": {},
     "output_type": "execute_result"
    }
   ],
   "source": [
    "X_train_v = X_train[0:50, :]\n",
    "Y_train_v = Y_train[0:50]\n",
    "X_train_ut, Y_train_ut = create_set_with_timestep(X_train_v, Y_train_v, time_steps)\n",
    "\n",
    "assert(np.all(X_train_ut[25,0,:] == X_train_v[25,:]))\n",
    "assert(Y_train_ut[24] == Y_train_v[47])\n",
    "\n",
    "del X_train_ut, X_train_v\n",
    "gc.collect()"
   ]
  },
  {
   "cell_type": "code",
   "execution_count": 8,
   "metadata": {},
   "outputs": [
    {
     "name": "stdout",
     "output_type": "stream",
     "text": [
      "X_train shape (39384, 24, 10) --- Y_train shape (39384,)\n",
      "X_test shape (4367, 24, 10) --- Y_test shape (4367,)\n"
     ]
    }
   ],
   "source": [
    "X_train, Y_train = create_set_with_timestep(X_train, Y_train, time_steps)\n",
    "X_test, Y_test = create_set_with_timestep(X_test, Y_test, time_steps)\n",
    "\n",
    "print(\"X_train shape {} --- Y_train shape {}\\nX_test shape {} --- Y_test shape {}\".\n",
    "      format(X_train.shape, Y_train.shape, X_test.shape, Y_test.shape))"
   ]
  },
  {
   "cell_type": "markdown",
   "metadata": {
    "collapsed": true
   },
   "source": [
    "## Development in Tensorflow"
   ]
  },
  {
   "cell_type": "code",
   "execution_count": 27,
   "metadata": {},
   "outputs": [
    {
     "ename": "TypeError",
     "evalue": "raw_rnn() got an unexpected keyword argument 'inputs'",
     "output_type": "error",
     "traceback": [
      "\u001b[1;31m---------------------------------------------------------------------------\u001b[0m",
      "\u001b[1;31mTypeError\u001b[0m                                 Traceback (most recent call last)",
      "\u001b[1;32m<ipython-input-27-c96ab426e59e>\u001b[0m in \u001b[0;36m<module>\u001b[1;34m()\u001b[0m\n\u001b[0;32m     10\u001b[0m     \u001b[0mlstm_cell\u001b[0m \u001b[1;33m=\u001b[0m \u001b[0mLSTMCell\u001b[0m\u001b[1;33m(\u001b[0m\u001b[0mnum_units\u001b[0m\u001b[1;33m=\u001b[0m\u001b[0mnum_units\u001b[0m\u001b[1;33m)\u001b[0m\u001b[1;33m\u001b[0m\u001b[0m\n\u001b[0;32m     11\u001b[0m     \u001b[0minitial_state\u001b[0m \u001b[1;33m=\u001b[0m \u001b[0mlstm_cell\u001b[0m\u001b[1;33m.\u001b[0m\u001b[0mzero_state\u001b[0m\u001b[1;33m(\u001b[0m\u001b[0mbatch_size\u001b[0m\u001b[1;33m,\u001b[0m \u001b[0mdtype\u001b[0m\u001b[1;33m=\u001b[0m\u001b[0mtf\u001b[0m\u001b[1;33m.\u001b[0m\u001b[0mfloat32\u001b[0m\u001b[1;33m)\u001b[0m\u001b[1;33m\u001b[0m\u001b[0m\n\u001b[1;32m---> 12\u001b[1;33m     \u001b[0moutputs\u001b[0m\u001b[1;33m,\u001b[0m \u001b[0mstate\u001b[0m \u001b[1;33m=\u001b[0m \u001b[0mtf\u001b[0m\u001b[1;33m.\u001b[0m\u001b[0mnn\u001b[0m\u001b[1;33m.\u001b[0m\u001b[0mraw_rnn\u001b[0m\u001b[1;33m(\u001b[0m\u001b[0mlstm_cell\u001b[0m\u001b[1;33m,\u001b[0m \u001b[0minputs\u001b[0m\u001b[1;33m=\u001b[0m\u001b[0mX\u001b[0m\u001b[1;33m,\u001b[0m \u001b[0minitial_state\u001b[0m\u001b[1;33m=\u001b[0m\u001b[0minitial_state\u001b[0m\u001b[1;33m)\u001b[0m\u001b[1;33m\u001b[0m\u001b[0m\n\u001b[0m\u001b[0;32m     13\u001b[0m \u001b[1;33m\u001b[0m\u001b[0m\n\u001b[0;32m     14\u001b[0m     \u001b[0minit\u001b[0m \u001b[1;33m=\u001b[0m \u001b[0mtf\u001b[0m\u001b[1;33m.\u001b[0m\u001b[0mglobal_variables_initializer\u001b[0m\u001b[1;33m(\u001b[0m\u001b[1;33m)\u001b[0m\u001b[1;33m\u001b[0m\u001b[0m\n",
      "\u001b[1;31mTypeError\u001b[0m: raw_rnn() got an unexpected keyword argument 'inputs'"
     ]
    }
   ],
   "source": [
    "graph = tf.Graph()\n",
    "X_shape = X_train.shape\n",
    "Y_shape = Y_train.shape\n",
    "num_units = 40\n",
    "batch_size = 50\n",
    "with graph.as_default():\n",
    "    X = tf.placeholder(shape=[batch_size, X_shape[1], X_shape[2]], dtype=tf.float32)\n",
    "    Y = tf.placeholder(shape=[batch_size], dtype=tf.float32)\n",
    "    #I do a basic now and look at the graph\n",
    "    lstm_cell = LSTMCell(num_units=num_units)\n",
    "    initial_state = lstm_cell.zero_state(batch_size, dtype=tf.float32)\n",
    "    outputs, state = tf.nn.(lstm_cell, inputs=X, initial_state=initial_state)\n",
    "    \n",
    "    init = tf.global_variables_initializer()\n",
    "with tf.Session(graph=graph) as sess:\n",
    "    sess.run(init)\n",
    "    saver = tf.summary.FileWriter(logdir=\"log\", graph=graph)\n",
    "    saver.flush()\n",
    "    \n",
    "    \n",
    "    \n",
    "    "
   ]
  },
  {
   "cell_type": "code",
   "execution_count": 83,
   "metadata": {},
   "outputs": [
    {
     "data": {
      "image/png": "[encoded data removed]",
      "text/plain": [
       "<matplotlib.figure.Figure at 0x15388a58>"
      ]
     },
     "metadata": {},
     "output_type": "display_data"
    }
   ],
   "source": []
  },
  {
   "cell_type": "code",
   "execution_count": null,
   "metadata": {},
   "outputs": [],
   "source": []
  }
 ],
 "metadata": {
  "kernelspec": {
   "display_name": "Python 3",
   "language": "python",
   "name": "python3"
  }
 },
 "nbformat": 4,
 "nbformat_minor": 2
}
