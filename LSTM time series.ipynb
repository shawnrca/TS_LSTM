{
 "cells": [
  {
   "cell_type": "code",
   "execution_count": 1,
   "metadata": {
    "collapsed": false
   },
   "outputs": [],
   "source": [
    "import numpy as np\n",
    "import pandas as pd\n",
    "from pandas import datetime\n",
    "import math\n",
    "from tensorflow.contrib.rnn import LSTMCell, DropoutWrapper, MultiRNNCell\n",
    "from tensorflow.contrib.layers import fully_connected\n",
    "import tensorflow as tf\n",
    "import matplotlib.pyplot as plt\n",
    "import gc\n",
    "%matplotlib inline"
   ]
  },
  {
   "cell_type": "code",
   "execution_count": 2,
   "metadata": {
    "collapsed": true
   },
   "outputs": [],
   "source": [
    "data = pd.read_csv(\"PRSA_data_2010.1.1-2014.12.31.csv\")\n",
    "data.index = data.apply(lambda x:datetime(x.year, x.month, x.day, x.hour), axis=1)\n",
    "\n",
    "data.drop(labels=[\"year\", \"month\", \"day\", \"hour\"], axis=1, inplace=True)\n",
    "data.rename(columns={\"pm2.5\":\"pm25\"}, inplace=True)\n",
    "data = data[pd.isnull(data[\"pm25\"]) == False]\n",
    "data = pd.concat([data, pd.get_dummies(data.cbwd)], axis=1)\n",
    "data.drop(labels=[\"cbwd\", \"No\"], axis=1, inplace=True)\n",
    "ts = pd.date_range(start=data.index.min(), end=data.index.max(), freq=\"H\")\n",
    "data = data.reindex(index=ts, method=\"pad\")\n",
    "\n",
    "\n",
    "data[\"pm25_next\"] = data.pm25.shift(-1)\n",
    "data = data[pd.isnull(data.pm25_next)==False]\n"
   ]
  },
  {
   "cell_type": "code",
   "execution_count": 3,
   "metadata": {
    "collapsed": false
   },
   "outputs": [
    {
     "data": {
      "text/html": [
       "<div>\n",
       "<table border=\"1\" class=\"dataframe\">\n",
       "  <thead>\n",
       "    <tr style=\"text-align: right;\">\n",
       "      <th></th>\n",
       "      <th>pm25</th>\n",
       "      <th>DEWP</th>\n",
       "      <th>TEMP</th>\n",
       "      <th>PRES</th>\n",
       "      <th>Iws</th>\n",
       "      <th>Is</th>\n",
       "      <th>Ir</th>\n",
       "      <th>NE</th>\n",
       "      <th>NW</th>\n",
       "      <th>SE</th>\n",
       "      <th>cv</th>\n",
       "      <th>pm25_next</th>\n",
       "    </tr>\n",
       "  </thead>\n",
       "  <tbody>\n",
       "    <tr>\n",
       "      <th>2010-01-02 00:00:00</th>\n",
       "      <td>129.0</td>\n",
       "      <td>-16</td>\n",
       "      <td>-4.0</td>\n",
       "      <td>1020.0</td>\n",
       "      <td>1.79</td>\n",
       "      <td>0</td>\n",
       "      <td>0</td>\n",
       "      <td>0</td>\n",
       "      <td>0</td>\n",
       "      <td>1</td>\n",
       "      <td>0</td>\n",
       "      <td>148.0</td>\n",
       "    </tr>\n",
       "    <tr>\n",
       "      <th>2010-01-02 01:00:00</th>\n",
       "      <td>148.0</td>\n",
       "      <td>-15</td>\n",
       "      <td>-4.0</td>\n",
       "      <td>1020.0</td>\n",
       "      <td>2.68</td>\n",
       "      <td>0</td>\n",
       "      <td>0</td>\n",
       "      <td>0</td>\n",
       "      <td>0</td>\n",
       "      <td>1</td>\n",
       "      <td>0</td>\n",
       "      <td>159.0</td>\n",
       "    </tr>\n",
       "    <tr>\n",
       "      <th>2010-01-02 02:00:00</th>\n",
       "      <td>159.0</td>\n",
       "      <td>-11</td>\n",
       "      <td>-5.0</td>\n",
       "      <td>1021.0</td>\n",
       "      <td>3.57</td>\n",
       "      <td>0</td>\n",
       "      <td>0</td>\n",
       "      <td>0</td>\n",
       "      <td>0</td>\n",
       "      <td>1</td>\n",
       "      <td>0</td>\n",
       "      <td>181.0</td>\n",
       "    </tr>\n",
       "    <tr>\n",
       "      <th>2010-01-02 03:00:00</th>\n",
       "      <td>181.0</td>\n",
       "      <td>-7</td>\n",
       "      <td>-5.0</td>\n",
       "      <td>1022.0</td>\n",
       "      <td>5.36</td>\n",
       "      <td>1</td>\n",
       "      <td>0</td>\n",
       "      <td>0</td>\n",
       "      <td>0</td>\n",
       "      <td>1</td>\n",
       "      <td>0</td>\n",
       "      <td>138.0</td>\n",
       "    </tr>\n",
       "    <tr>\n",
       "      <th>2010-01-02 04:00:00</th>\n",
       "      <td>138.0</td>\n",
       "      <td>-7</td>\n",
       "      <td>-5.0</td>\n",
       "      <td>1022.0</td>\n",
       "      <td>6.25</td>\n",
       "      <td>2</td>\n",
       "      <td>0</td>\n",
       "      <td>0</td>\n",
       "      <td>0</td>\n",
       "      <td>1</td>\n",
       "      <td>0</td>\n",
       "      <td>109.0</td>\n",
       "    </tr>\n",
       "  </tbody>\n",
       "</table>\n",
       "</div>"
      ],
      "text/plain": [
       "                      pm25  DEWP  TEMP    PRES   Iws  Is  Ir  NE  NW  SE  cv  \\\n",
       "2010-01-02 00:00:00  129.0   -16  -4.0  1020.0  1.79   0   0   0   0   1   0   \n",
       "2010-01-02 01:00:00  148.0   -15  -4.0  1020.0  2.68   0   0   0   0   1   0   \n",
       "2010-01-02 02:00:00  159.0   -11  -5.0  1021.0  3.57   0   0   0   0   1   0   \n",
       "2010-01-02 03:00:00  181.0    -7  -5.0  1022.0  5.36   1   0   0   0   1   0   \n",
       "2010-01-02 04:00:00  138.0    -7  -5.0  1022.0  6.25   2   0   0   0   1   0   \n",
       "\n",
       "                     pm25_next  \n",
       "2010-01-02 00:00:00      148.0  \n",
       "2010-01-02 01:00:00      159.0  \n",
       "2010-01-02 02:00:00      181.0  \n",
       "2010-01-02 03:00:00      138.0  \n",
       "2010-01-02 04:00:00      109.0  "
      ]
     },
     "execution_count": 3,
     "metadata": {},
     "output_type": "execute_result"
    }
   ],
   "source": [
    "data.head()\n"
   ]
  },
  {
   "cell_type": "code",
   "execution_count": 4,
   "metadata": {
    "collapsed": false
   },
   "outputs": [
    {
     "data": {
      "text/plain": [
       "329"
      ]
     },
     "execution_count": 4,
     "metadata": {},
     "output_type": "execute_result"
    }
   ],
   "source": [
    "Y = data.pm25_next.values\n",
    "X = data.drop(labels=\"pm25_next\", axis=1).values\n",
    "del data\n",
    "gc.collect()"
   ]
  },
  {
   "cell_type": "code",
   "execution_count": 5,
   "metadata": {
    "collapsed": false
   },
   "outputs": [
    {
     "name": "stdout",
     "output_type": "stream",
     "text": [
      "X_train shape: (39420, 11) ----- Y_train shape: (39420,)-------\n"
     ]
    }
   ],
   "source": [
    "time_steps = 12\n",
    "\n",
    "#break down data for train and test\n",
    "#Here we take into consideration the time_steps\n",
    "size_of_test = X.shape[0]//10\n",
    "size_of_train = X.shape[0] - X.shape[0]//10\n",
    "size_of_test = size_of_test + size_of_train%time_steps -1\n",
    "size_of_train = X.shape[0] - size_of_test\n",
    "cut_off = size_of_train - 1\n",
    "\n",
    "X_train, Y_train = X[0:cut_off,:], Y[0:cut_off]\n",
    "X_test, Y_test = X[cut_off:,:], Y[cut_off::]\n",
    "\n",
    "#Get the min and max for all data\n",
    "X_min, X_max = np.min(X, axis=0), np.max(X, axis=0)\n",
    "\n",
    "#Standardize data\n",
    "X_train = (X_train-X_min)/(X_max-X_min)\n",
    "X_test = (X_test-X_min)/(X_max-X_min)\n",
    "\n",
    "assert(np.all(np.max(X_train, axis=0) == 1.0))\n",
    "assert(np.all(np.min(X_train, axis=0) == 0.0))\n",
    "\n",
    "print(\"X_train shape: {} ----- Y_train shape: {}-------\".format(X_train.shape, Y_train.shape))"
   ]
  },
  {
   "cell_type": "code",
   "execution_count": 6,
   "metadata": {
    "collapsed": true
   },
   "outputs": [],
   "source": [
    "def create_set_with_timestep(X, Y, time_steps):\n",
    "    X_with_t = np.zeros((X.shape[0] - time_steps, time_steps, X.shape[1]))\n",
    "    Y_with_t = np.zeros(((Y.shape[0] - time_steps),1))\n",
    "    # sliding window with time steps width of for the sample\n",
    "    # in this case the y would be the last y of the sample (because we shifted that earlier)\n",
    "    \n",
    "    for i in range(X_with_t.shape[0]):\n",
    "        to_i = i + time_steps\n",
    "        if to_i >= X.shape[0]:\n",
    "            break;\n",
    "        X_with_t[i,...] = np.vstack(X[i:to_i,:])\n",
    "        Y_with_t[i,...] = Y[to_i-1]\n",
    "    return (X_with_t, Y_with_t)\n",
    "    \n",
    "    "
   ]
  },
  {
   "cell_type": "code",
   "execution_count": 7,
   "metadata": {
    "collapsed": false
   },
   "outputs": [
    {
     "data": {
      "text/plain": [
       "308"
      ]
     },
     "execution_count": 7,
     "metadata": {},
     "output_type": "execute_result"
    }
   ],
   "source": [
    "X_train_v = X_train[0:50, :]\n",
    "Y_train_v = Y_train[0:50]\n",
    "X_train_ut, Y_train_ut = create_set_with_timestep(X_train_v, Y_train_v, time_steps)\n",
    "\n",
    "assert(np.all(X_train_ut[25,0,:] == X_train_v[25,:]))\n",
    "assert(Y_train_ut[24] == Y_train_v[24+time_steps-1])\n",
    "\n",
    "del X_train_ut, X_train_v\n",
    "gc.collect()"
   ]
  },
  {
   "cell_type": "code",
   "execution_count": 8,
   "metadata": {
    "collapsed": false,
    "scrolled": true
   },
   "outputs": [
    {
     "name": "stdout",
     "output_type": "stream",
     "text": [
      "X_train shape (39408, 12, 11) --- Y_train shape (39408, 1)\n",
      "X_test shape (4367, 12, 11) --- Y_test shape (4367, 1)\n"
     ]
    }
   ],
   "source": [
    "X_train, Y_train = create_set_with_timestep(X_train, Y_train, time_steps)\n",
    "X_test, Y_test = create_set_with_timestep(X_test, Y_test, time_steps)\n",
    "\n",
    "print(\"X_train shape {} --- Y_train shape {}\\nX_test shape {} --- Y_test shape {}\".\n",
    "      format(X_train.shape, Y_train.shape, X_test.shape, Y_test.shape))"
   ]
  },
  {
   "cell_type": "markdown",
   "metadata": {
    "collapsed": true
   },
   "source": [
    "## Development in Tensorflow"
   ]
  },
  {
   "cell_type": "code",
   "execution_count": 10,
   "metadata": {
    "collapsed": false
   },
   "outputs": [
    {
     "name": "stdout",
     "output_type": "stream",
     "text": [
      "INFO:tensorflow:Summary name gradients/rnn/while/rnn/multi_rnn_cell/cell_0/cell_0/lstm_cell/MatMul/Enter_grad/b_acc_3:0 is illegal; using gradients/rnn/while/rnn/multi_rnn_cell/cell_0/cell_0/lstm_cell/MatMul/Enter_grad/b_acc_3_0 instead.\n",
      "INFO:tensorflow:Summary name gradients/rnn/while/rnn/multi_rnn_cell/cell_0/cell_0/lstm_cell/BiasAdd/Enter_grad/b_acc_3:0 is illegal; using gradients/rnn/while/rnn/multi_rnn_cell/cell_0/cell_0/lstm_cell/BiasAdd/Enter_grad/b_acc_3_0 instead.\n",
      "INFO:tensorflow:Summary name gradients/rnn/while/rnn/multi_rnn_cell/cell_1/cell_1/lstm_cell/MatMul/Enter_grad/b_acc_3:0 is illegal; using gradients/rnn/while/rnn/multi_rnn_cell/cell_1/cell_1/lstm_cell/MatMul/Enter_grad/b_acc_3_0 instead.\n",
      "INFO:tensorflow:Summary name gradients/rnn/while/rnn/multi_rnn_cell/cell_1/cell_1/lstm_cell/BiasAdd/Enter_grad/b_acc_3:0 is illegal; using gradients/rnn/while/rnn/multi_rnn_cell/cell_1/cell_1/lstm_cell/BiasAdd/Enter_grad/b_acc_3_0 instead.\n",
      "INFO:tensorflow:Summary name gradients/fully_connected/MatMul_grad/tuple/control_dependency_1:0 is illegal; using gradients/fully_connected/MatMul_grad/tuple/control_dependency_1_0 instead.\n",
      "INFO:tensorflow:Summary name gradients/fully_connected/BiasAdd_grad/tuple/control_dependency_1:0 is illegal; using gradients/fully_connected/BiasAdd_grad/tuple/control_dependency_1_0 instead.\n"
     ]
    }
   ],
   "source": [
    "tf.reset_default_graph()\n",
    "graph = tf.Graph()\n",
    "X_shape = X_train.shape\n",
    "Y_shape = Y_train.shape\n",
    "batch_size = 50\n",
    "num_units = [128, 64]\n",
    "with graph.as_default():\n",
    "    \n",
    "    X = tf.placeholder(shape=[batch_size, X_shape[1], X_shape[2]], dtype=tf.float32)\n",
    "    Y = tf.placeholder(shape=[batch_size, 1], dtype=tf.float32)\n",
    "    keep_prob = tf.placeholder(tf.float32)\n",
    "    #I do a basic now and look at the graph\n",
    "    lstm_cells = list()\n",
    "    for u in range(len(num_units)):\n",
    "        lstm_cells.append(\n",
    "            DropoutWrapper(LSTMCell(num_units=num_units[u], state_is_tuple=True), \n",
    "                           input_keep_prob=keep_prob,\n",
    "                           output_keep_prob=keep_prob))\n",
    "    \n",
    "    lstm_cells = MultiRNNCell(lstm_cells, state_is_tuple=True)\n",
    "    initial_states = lstm_cells.zero_state(batch_size, dtype=tf.float32)\n",
    "    outputs, states = tf.nn.dynamic_rnn(lstm_cells, inputs=X, initial_state=initial_states)\n",
    "\n",
    "    \n",
    "    fc_final = fully_connected(inputs=outputs[:,-1,:], activation_fn=None, num_outputs=1)\n",
    "    loss = tf.losses.mean_squared_error(labels=Y, predictions=fc_final)\n",
    "    \n",
    "    optimizer = tf.train.AdamOptimizer()\n",
    "    gradients = optimizer.compute_gradients(loss)\n",
    "    for i, gv in enumerate(gradients):\n",
    "        tf.summary.histogram(\"{}\".format(gv[0].name), gv[0])\n",
    "    #gradients = [(tf.clip_by_value(g, tf.constant(-2000.0), tf.constant(100.0)), v) \\\n",
    "    #                     for g, v in gradients]\n",
    "    \n",
    "    optimize = optimizer.apply_gradients(gradients)\n",
    "    tf.summary.scalar(\"loss_rmse\", tf.sqrt(loss))\n",
    "    merge_summaries = tf.summary.merge_all()\n",
    "    init = tf.global_variables_initializer()"
   ]
  },
  {
   "cell_type": "code",
   "execution_count": null,
   "metadata": {
    "collapsed": false
   },
   "outputs": [
    {
     "name": "stdout",
     "output_type": "stream",
     "text": [
      "epoch=138       --Iterations=600       --loss train rmse=21.650--loss test rmse=84.652 "
     ]
    }
   ],
   "source": [
    "with tf.Session(graph=graph) as sess:\n",
    "    no_of_epochs = 100000\n",
    "    no_of_iterations = X_train.shape[0]//batch_size + 1\n",
    "    report_cycle = 100\n",
    "    summarize_train = tf.summary.FileWriter(logdir=\"log//train\", graph=graph)\n",
    "    summarize_test = tf.summary.FileWriter(logdir=\"log//test\", graph=graph)\n",
    "    sess.run(init)\n",
    "    counter = 1\n",
    "    for epoch in range(no_of_epochs):\n",
    "        for n in range(no_of_iterations):\n",
    "            train_idxs = np.random.choice(np.arange(X_train.shape[0]), batch_size)\n",
    "            _, loss_val, train_summary  = sess.run([optimize, loss, merge_summaries], \n",
    "                                                   feed_dict={X:X_train[train_idxs,...], \n",
    "                                                              Y:Y_train[train_idxs,...],\n",
    "                                                            keep_prob:0.6})\n",
    "            if n%report_cycle==0:\n",
    "                summarize_train.add_summary(train_summary, counter)\n",
    "                loss_test_val, test_summary = sess.run([loss, merge_summaries], \n",
    "                                                   feed_dict={X:X_test[0:50,...], \n",
    "                                                              Y:Y_test[0:50,...],\n",
    "                                                              keep_prob:1.0})\n",
    "                summarize_test.add_summary(test_summary, counter)\n",
    "                counter += 1\n",
    "                print(\"\\repoch={:<10d}--Iterations={:<10d}--loss train rmse={:<.3f}--loss test rmse={:<.3f}\".\\\n",
    "                      format(epoch, n, math.sqrt(loss_val), math.sqrt(loss_test_val)), end =\" \")\n",
    "        \n",
    "    "
   ]
  },
  {
   "cell_type": "code",
   "execution_count": null,
   "metadata": {
    "collapsed": true
   },
   "outputs": [],
   "source": []
  },
  {
   "cell_type": "code",
   "execution_count": null,
   "metadata": {
    "collapsed": true
   },
   "outputs": [],
   "source": []
  }
 ],
 "metadata": {
  "kernelspec": {
   "display_name": "Python 3",
   "language": "python",
   "name": "python3"
  },
  "language_info": {
   "codemirror_mode": {
    "name": "ipython",
    "version": 3
   },
   "file_extension": ".py",
   "mimetype": "text/x-python",
   "name": "python",
   "nbconvert_exporter": "python",
   "pygments_lexer": "ipython3",
   "version": "3.5.4"
  }
 },
 "nbformat": 4,
 "nbformat_minor": 2
}
