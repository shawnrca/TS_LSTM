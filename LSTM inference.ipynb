{
 "cells": [
  {
   "cell_type": "code",
   "execution_count": 1,
   "metadata": {
    "collapsed": false
   },
   "outputs": [],
   "source": [
    "import numpy as np\n",
    "import pandas as pd\n",
    "from pandas import datetime\n",
    "import math\n",
    "from tensorflow.contrib.rnn import LSTMCell, DropoutWrapper, MultiRNNCell\n",
    "from tensorflow.contrib.layers import fully_connected\n",
    "import tensorflow as tf\n",
    "import matplotlib.pyplot as plt\n",
    "import gc\n",
    "import json\n",
    "%matplotlib inline"
   ]
  },
  {
   "cell_type": "code",
   "execution_count": 5,
   "metadata": {
    "collapsed": true
   },
   "outputs": [],
   "source": [
    "\n",
    "    "
   ]
  },
  {
   "cell_type": "code",
   "execution_count": 31,
   "metadata": {
    "collapsed": true
   },
   "outputs": [],
   "source": [
    "data = pd.read_csv(\"PRSA_data_2010.1.1-2014.12.31.csv\")\n",
    "data.index = data.apply(lambda x:datetime(x.year, x.month, x.day, x.hour), axis=1)\n",
    "\n",
    "data.drop(labels=[\"year\", \"month\", \"day\", \"hour\"], axis=1, inplace=True)\n",
    "data.rename(columns={\"pm2.5\":\"pm25\"}, inplace=True)\n",
    "data = data[pd.isnull(data[\"pm25\"]) == False]\n",
    "data = pd.concat([data, pd.get_dummies(data.cbwd)], axis=1)\n",
    "data.drop(labels=[\"cbwd\", \"No\"], axis=1, inplace=True)\n",
    "ts = pd.date_range(start=data.index.min(), end=data.index.max(), freq=\"H\")\n",
    "data = data.reindex(index=ts, method=\"pad\")\n",
    "data[\"pm25_next\"] = data.pm25.shift(-1)\n",
    "data = data[pd.isnull(data.pm25_next)==False]\n"
   ]
  },
  {
   "cell_type": "code",
   "execution_count": 32,
   "metadata": {
    "collapsed": false
   },
   "outputs": [
    {
     "data": {
      "text/plain": [
       "61405"
      ]
     },
     "execution_count": 32,
     "metadata": {},
     "output_type": "execute_result"
    }
   ],
   "source": [
    "Y = data.pm25_next.values\n",
    "X = data.drop(labels=\"pm25_next\", axis=1).values\n",
    "del data\n",
    "gc.collect()"
   ]
  },
  {
   "cell_type": "code",
   "execution_count": 33,
   "metadata": {
    "collapsed": true
   },
   "outputs": [],
   "source": [
    "X_min, X_max = np.min(X, axis=0), np.max(X, axis=0)"
   ]
  },
  {
   "cell_type": "code",
   "execution_count": 35,
   "metadata": {
    "collapsed": false
   },
   "outputs": [
    {
     "data": {
      "text/plain": [
       "(array([  0.00000000e+00,  -4.00000000e+01,  -1.90000000e+01,\n",
       "          9.91000000e+02,   4.50000000e-01,   0.00000000e+00,\n",
       "          0.00000000e+00,   0.00000000e+00,   0.00000000e+00,\n",
       "          0.00000000e+00,   0.00000000e+00]),\n",
       " array([  9.94000000e+02,   2.80000000e+01,   4.20000000e+01,\n",
       "          1.04600000e+03,   5.65490000e+02,   2.70000000e+01,\n",
       "          3.60000000e+01,   1.00000000e+00,   1.00000000e+00,\n",
       "          1.00000000e+00,   1.00000000e+00]))"
      ]
     },
     "execution_count": 35,
     "metadata": {},
     "output_type": "execute_result"
    }
   ],
   "source": [
    "X_min, X_max"
   ]
  },
  {
   "cell_type": "code",
   "execution_count": null,
   "metadata": {
    "collapsed": true
   },
   "outputs": [],
   "source": [
    " global X, Y\n",
    "\n",
    "#break down data for train and test\n",
    "#Here we take into consideration the time_steps\n",
    "size_of_test = X.shape[0]//10\n",
    "size_of_train = X.shape[0] - X.shape[0]//10\n",
    "size_of_test = size_of_test + size_of_train%time_steps -1\n",
    "size_of_train = X.shape[0] - size_of_test\n",
    "cut_off = size_of_train - 1\n",
    "\n",
    "X_train, Y_train = X[0:cut_off,:], Y[0:cut_off]\n",
    "X_test, Y_test = X[cut_off:,:], Y[cut_off::]\n",
    "\n",
    "#Get the min and max for all data\n",
    "X_min, X_max = np.min(X, axis=0), np.max(X, axis=0)\n",
    "\n",
    "#Standardize data\n",
    "X_train = (X_train-X_min)/(X_max-X_min)\n",
    "X_test = (X_test-X_min)/(X_max-X_min)\n",
    "\n",
    "assert(np.all(np.max(X_train, axis=0) == 1.0))\n",
    "assert(np.all(np.min(X_train, axis=0) == 0.0))\n",
    "\n",
    "X_train_v = X_train[0:50, :]\n",
    "Y_train_v = Y_train[0:50]\n",
    "X_train_ut, Y_train_ut = create_set_with_timestep(X_train_v, Y_train_v, time_steps)\n",
    "\n",
    "#assert(np.all(X_train_ut[25,0,:] == X_train_v[25,:]))\n",
    "#assert(Y_train_ut[24] == Y_train_v[24+time_steps-1])\n",
    "\n",
    "del X_train_ut, X_train_v\n",
    "gc.collect()\n",
    "\n",
    "X_train, Y_train = create_set_with_timestep(X_train, Y_train, time_steps)\n",
    "X_test, Y_test = create_set_with_timestep(X_test, Y_test, time_steps)\n"
   ]
  },
  {
   "cell_type": "code",
   "execution_count": 29,
   "metadata": {
    "collapsed": false
   },
   "outputs": [
    {
     "name": "stdout",
     "output_type": "stream",
     "text": [
      "INFO:tensorflow:Restoring parameters from model/lstm-150\n",
      "[[-0.16452482  0.42895725 -0.07317236 ...,  1.32553053 -0.58596361\n",
      "  -0.10303319]\n",
      " [-0.41919723  0.09274144  0.14675307 ..., -0.23298113  0.03309511\n",
      "  -0.19529048]\n",
      " [-0.3629404  -0.27416244  0.22508462 ..., -0.44087529 -0.26117423\n",
      "   0.05187651]\n",
      " ..., \n",
      " [ 0.38898617 -0.18325227 -0.78841394 ..., -0.18772124  0.1327482\n",
      "   0.20491971]\n",
      " [ 0.42833292 -0.01359674  0.85255647 ..., -0.21459951  0.36771637\n",
      "  -0.25170344]\n",
      " [ 0.08536842  0.27144602 -0.65217268 ...,  0.12993701  0.59898394\n",
      "  -0.04898318]]\n"
     ]
    }
   ],
   "source": [
    "tf.reset_default_graph()\n",
    "\n",
    "with tf.Session() as sess:\n",
    "    new_saver = tf.train.import_meta_graph(meta_graph_or_file=\"model/lstm-150.meta\")\n",
    "    new_saver.restore(sess, \"model/lstm-150\")\n",
    "    l = sess.graph.get_collection(\"trainable_variables\")\n",
    "    print(l[0].eval())"
   ]
  },
  {
   "cell_type": "code",
   "execution_count": 36,
   "metadata": {
    "collapsed": true
   },
   "outputs": [],
   "source": [
    "class PRSA_lstm:\n",
    "    \n",
    "    def __init__(self):\n",
    "        \n",
    "        self.X_min, self.X_max = (array([  0.00000000e+00,  -4.00000000e+01,  -1.90000000e+01,\n",
    "                              9.91000000e+02,   4.50000000e-01,   0.00000000e+00,\n",
    "                              0.00000000e+00,   0.00000000e+00,   0.00000000e+00,\n",
    "                              0.00000000e+00,   0.00000000e+00]),\n",
    "                             array([  9.94000000e+02,   2.80000000e+01,   4.20000000e+01,\n",
    "                                      1.04600000e+03,   5.65490000e+02,   2.70000000e+01,\n",
    "                                      3.60000000e+01,   1.00000000e+00,   1.00000000e+00,\n",
    "                                      1.00000000e+00,   1.00000000e+00]))\n",
    "    \n",
    "    \n",
    "\n",
    "    def create_set_with_timestep(self, X, Y, time_steps):\n",
    "        X_with_t = np.zeros((X.shape[0] - time_steps, time_steps, X.shape[1]))\n",
    "        Y_with_t = np.zeros(((Y.shape[0] - time_steps),1))\n",
    "        # sliding window with time steps width of for the sample\n",
    "        # in this case the y would be the last y of the sample (because we shifted that earlier)\n",
    "\n",
    "        for i in range(X_with_t.shape[0]):\n",
    "            to_i = i + time_steps\n",
    "            if to_i >= X.shape[0]:\n",
    "                break;\n",
    "            X_with_t[i,...] = np.vstack(X[i:to_i,:])\n",
    "            Y_with_t[i,...] = Y[to_i-1]\n",
    "        return (X_with_t, Y_with_t)\n",
    "    \n",
    "    \n",
    "        "
   ]
  },
  {
   "cell_type": "code",
   "execution_count": null,
   "metadata": {
    "collapsed": true
   },
   "outputs": [],
   "source": []
  }
 ],
 "metadata": {
  "kernelspec": {
   "display_name": "Python 3",
   "language": "python",
   "name": "python3"
  },
  "language_info": {
   "codemirror_mode": {
    "name": "ipython",
    "version": 3
   },
   "file_extension": ".py",
   "mimetype": "text/x-python",
   "name": "python",
   "nbconvert_exporter": "python",
   "pygments_lexer": "ipython3",
   "version": "3.5.4"
  }
 },
 "nbformat": 4,
 "nbformat_minor": 2
}
