{
 "cells": [
  {
   "cell_type": "code",
   "execution_count": 1,
   "metadata": {},
   "outputs": [],
   "source": [
    "import numpy as np\n",
    "import pandas as pd\n",
    "from pandas import datetime\n",
    "import math\n",
    "from tensorflow.contrib.rnn import LSTMCell, DropoutWrapper, MultiRNNCell\n",
    "from tensorflow.contrib.layers import fully_connected\n",
    "import tensorflow as tf\n",
    "import matplotlib.pyplot as plt\n",
    "import gc\n",
    "import json\n",
    "%matplotlib inline"
   ]
  },
  {
   "cell_type": "code",
   "execution_count": 50,
   "metadata": {},
   "outputs": [],
   "source": [
    "class PRSA_lstm:\n",
    "    \n",
    "    def __init__(self, model_to_restore=\"lstm-200\"):\n",
    "    \n",
    "        self._input_col_cfg = ['pm25_prev', 'DEWP', 'TEMP', 'PRES', 'Iws', 'Is', 'Ir', 'NE', 'NW', 'SE', 'cv']\n",
    "        self._time_steps = 23\n",
    "        self._X_min, self._X_max = (np.array([  0.00000000e+00,  -4.00000000e+01,  -1.90000000e+01,\n",
    "                              9.91000000e+02,   4.50000000e-01,   0.00000000e+00,\n",
    "                              0.00000000e+00,   0.00000000e+00,   0.00000000e+00,\n",
    "                              0.00000000e+00,   0.00000000e+00]),\n",
    "                             np.array([  9.94000000e+02,   2.80000000e+01,   4.20000000e+01,\n",
    "                                      1.04600000e+03,   5.65490000e+02,   2.70000000e+01,\n",
    "                                      3.60000000e+01,   1.00000000e+00,   1.00000000e+00,\n",
    "                                      1.00000000e+00,   1.00000000e+00]))\n",
    "        tf.reset_default_graph()\n",
    "        self._sess = tf.Session()\n",
    "        new_saver = tf.train.import_meta_graph(meta_graph_or_file=\"{}.meta\".format(model_to_restore))\n",
    "        new_saver.restore(self._sess, model_to_restore)\n",
    "        self.graph = self._sess.graph\n",
    "                \n",
    "   \n",
    "    \n",
    "    def _preprocess(self, data):\n",
    "        assert(np.all(data.columns.values == np.array(['No', 'year', 'month', 'day', 'hour', 'pm2.5', 'DEWP', 'TEMP',\n",
    "           'PRES', 'cbwd', 'Iws', 'Is', 'Ir'])))\n",
    "        \n",
    "        assert(len(data)==self._time_steps+1)\n",
    "        assert(np.all(np.isnan(data[\"pm2.5\"].iloc[0:-1])==False))\n",
    "        assert(np.isnan(data[\"pm2.5\"].iloc[-1]))\n",
    "        \n",
    "        data.index = data.apply(lambda x:datetime(x.year, x.month, x.day, x.hour), axis=1)\n",
    "        data.drop(labels=[\"year\", \"month\", \"day\", \"hour\"], axis=1, inplace=True)\n",
    "       \n",
    "        data[\"pm2.5\"] = data[\"pm2.5\"].shift(1)\n",
    "        data.drop(index=data.index[0], inplace=True)\n",
    "        assert(np.all(np.isnan(data[\"pm2.5\"])==False))\n",
    "        data.rename(columns={\"pm2.5\":\"pm25_prev\"}, inplace=True)\n",
    "        data = pd.concat([data, pd.get_dummies(data.cbwd)], axis=1)\n",
    "        data.drop(labels=[\"cbwd\", \"No\"], axis=1, inplace=True)\n",
    "     \n",
    "        ts = pd.date_range(start=data.index.min(), end=data.index.max(), freq=\"H\")\n",
    "        data = data.reindex(index=ts, method=\"pad\")\n",
    "      \n",
    "        cols_to_add = set(self._input_col_cfg) - set(data.columns)\n",
    "        for c in cols_to_add:\n",
    "            data[c] = None\n",
    "        \n",
    "        data = data[self._input_col_cfg]\n",
    "        data.fillna(0, inplace=True)\n",
    "        assert(data.shape[0]==self._time_steps)\n",
    "        X_train = (data.values-self._X_min)/(self._X_max-self._X_min)\n",
    "        \n",
    "        return(X_train)\n",
    "    \n",
    "    def predict(self, data):\n",
    "        data = self._preprocess(data)\n",
    "        \n",
    "     \n",
    "    def __exit__(self):\n",
    "        \n",
    "        self._sess.close()\n",
    "        tf.reset_default_graph()\n",
    "        "
   ]
  },
  {
   "cell_type": "code",
   "execution_count": 51,
   "metadata": {},
   "outputs": [
    {
     "name": "stdout",
     "output_type": "stream",
     "text": [
      "INFO:tensorflow:Restoring parameters from lstm-200\n"
     ]
    },
    {
     "data": {
      "text/plain": [
       "array([[0.12977867, 0.36764706, 0.24590164, 0.52727273, 0.00394662,\n",
       "        0.        , 0.        , 0.        , 0.        , 1.        ,\n",
       "        0.        ],\n",
       "       [0.14889336, 0.42647059, 0.2295082 , 0.54545455, 0.00552173,\n",
       "        0.        , 0.        , 0.        , 0.        , 1.        ,\n",
       "        0.        ],\n",
       "       [0.15995976, 0.48529412, 0.2295082 , 0.56363636, 0.00868965,\n",
       "        0.03703704, 0.        , 0.        , 0.        , 1.        ,\n",
       "        0.        ],\n",
       "       [0.18209256, 0.48529412, 0.2295082 , 0.56363636, 0.01026476,\n",
       "        0.07407407, 0.        , 0.        , 0.        , 1.        ,\n",
       "        0.        ],\n",
       "       [0.138833  , 0.48529412, 0.21311475, 0.56363636, 0.01183987,\n",
       "        0.11111111, 0.        , 0.        , 0.        , 1.        ,\n",
       "        0.        ],\n",
       "       [0.10965795, 0.48529412, 0.21311475, 0.58181818, 0.01500779,\n",
       "        0.14814815, 0.        , 0.        , 0.        , 1.        ,\n",
       "        0.        ],\n",
       "       [0.1056338 , 0.48529412, 0.2295082 , 0.6       , 0.0181757 ,\n",
       "        0.        , 0.        , 0.        , 0.        , 1.        ,\n",
       "        0.        ],\n",
       "       [0.12474849, 0.47058824, 0.21311475, 0.6       , 0.02134362,\n",
       "        0.        , 0.        , 0.        , 0.        , 1.        ,\n",
       "        0.        ],\n",
       "       [0.12072435, 0.48529412, 0.2295082 , 0.61818182, 0.02451154,\n",
       "        0.        , 0.        , 0.        , 0.        , 1.        ,\n",
       "        0.        ],\n",
       "       [0.13279678, 0.48529412, 0.2295082 , 0.63636364, 0.03005097,\n",
       "        0.03703704, 0.        , 0.        , 0.        , 1.        ,\n",
       "        0.        ],\n",
       "       [0.14084507, 0.47058824, 0.2295082 , 0.63636364, 0.0355904 ,\n",
       "        0.        , 0.        , 0.        , 0.        , 1.        ,\n",
       "        0.        ],\n",
       "       [0.15291751, 0.47058824, 0.2295082 , 0.63636364, 0.04112983,\n",
       "        0.        , 0.        , 0.        , 0.        , 1.        ,\n",
       "        0.        ],\n",
       "       [0.14889336, 0.47058824, 0.2295082 , 0.61818182, 0.04824437,\n",
       "        0.        , 0.        , 0.        , 0.        , 1.        ,\n",
       "        0.        ],\n",
       "       [0.16498994, 0.45588235, 0.2295082 , 0.61818182, 0.05535891,\n",
       "        0.        , 0.        , 0.        , 0.        , 1.        ,\n",
       "        0.        ],\n",
       "       [0.15895372, 0.45588235, 0.2295082 , 0.61818182, 0.06247345,\n",
       "        0.        , 0.        , 0.        , 0.        , 1.        ,\n",
       "        0.        ],\n",
       "       [0.15492958, 0.45588235, 0.2295082 , 0.63636364, 0.06564137,\n",
       "        0.        , 0.        , 0.        , 0.        , 1.        ,\n",
       "        0.        ],\n",
       "       [0.15995976, 0.47058824, 0.2295082 , 0.65454545, 0.06880929,\n",
       "        0.        , 0.        , 0.        , 0.        , 1.        ,\n",
       "        0.        ],\n",
       "       [0.16498994, 0.47058824, 0.2295082 , 0.65454545, 0.07434872,\n",
       "        0.        , 0.        , 0.        , 0.        , 1.        ,\n",
       "        0.        ],\n",
       "       [0.17102616, 0.47058824, 0.2295082 , 0.67272727, 0.07751664,\n",
       "        0.        , 0.        , 0.        , 0.        , 1.        ,\n",
       "        0.        ],\n",
       "       [0.1498994 , 0.48529412, 0.2295082 , 0.67272727, 0.08068455,\n",
       "        0.        , 0.        , 0.        , 0.        , 1.        ,\n",
       "        0.        ],\n",
       "       [0.15492958, 0.48529412, 0.2295082 , 0.65454545, 0.08622398,\n",
       "        0.03703704, 0.        , 0.        , 0.        , 1.        ,\n",
       "        0.        ],\n",
       "       [0.16498994, 0.47058824, 0.21311475, 0.67272727, 0.09176341,\n",
       "        0.07407407, 0.        , 0.        , 0.        , 1.        ,\n",
       "        0.        ],\n",
       "       [0.15694165, 0.47058824, 0.21311475, 0.65454545, 0.09730285,\n",
       "        0.11111111, 0.        , 0.        , 0.        , 1.        ,\n",
       "        0.        ]])"
      ]
     },
     "execution_count": 51,
     "metadata": {},
     "output_type": "execute_result"
    }
   ],
   "source": [
    "data = pd.read_csv(\"PRSA_data_2010.1.1-2014.12.31.csv\")\n",
    "data = data[data[\"pm2.5\"].isna()==False]\n",
    "\n",
    "m = PRSA_lstm()\n",
    "data = data.iloc[0:24]\n",
    "data.at[data.index[-1],\"pm2.5\"] = None\n",
    "m._preprocess(data)"
   ]
  },
  {
   "cell_type": "code",
   "execution_count": 75,
   "metadata": {},
   "outputs": [
    {
     "name": "stdout",
     "output_type": "stream",
     "text": [
      "INFO:tensorflow:Restoring parameters from lstm-200\n",
      "Tensor(\"Placeholder:0\", shape=(50, 23, 11), dtype=float32)\n"
     ]
    }
   ],
   "source": [
    "tf.reset_default_graph()\n",
    "\n",
    "with tf.Session() as sess:\n",
    "    new_saver = tf.train.import_meta_graph(meta_graph_or_file=\"lstm-200.meta\")\n",
    "    new_saver.restore(sess, \"lstm-200\")\n",
    "    print(sess.graph.get_tensor_by_name(\"Placeholder:0\"))\n"
   ]
  },
  {
   "cell_type": "code",
   "execution_count": null,
   "metadata": {
    "collapsed": true
   },
   "outputs": [],
   "source": []
  }
 ],
 "metadata": {
  "kernelspec": {
   "display_name": "Python 3",
   "language": "python",
   "name": "python3"
  },
  "language_info": {
   "codemirror_mode": {
    "name": "ipython",
    "version": 3
   },
   "file_extension": ".py",
   "mimetype": "text/x-python",
   "name": "python",
   "nbconvert_exporter": "python",
   "pygments_lexer": "ipython3",
   "version": "3.6.4"
  }
 },
 "nbformat": 4,
 "nbformat_minor": 2
}
